{
  "nbformat": 4,
  "nbformat_minor": 0,
  "metadata": {
    "colab": {
      "provenance": []
    },
    "kernelspec": {
      "name": "python3",
      "display_name": "Python 3"
    },
    "language_info": {
      "name": "python"
    }
  },
  "cells": [
    {
      "cell_type": "markdown",
      "source": [
        "**João Lucas Lage Gonçalves**\n",
        "\n",
        "**23052002**"
      ],
      "metadata": {
        "id": "Lcmz98gNRU8r"
      }
    },
    {
      "cell_type": "markdown",
      "source": [
        "# Descrição\n"
      ],
      "metadata": {
        "id": "efPE2CaqRoIb"
      }
    },
    {
      "cell_type": "markdown",
      "source": [
        "# Carregar os dados"
      ],
      "metadata": {
        "id": "UzVu99mFRqOw"
      }
    },
    {
      "cell_type": "code",
      "execution_count": null,
      "metadata": {
        "id": "cJVmrcTCP68U"
      },
      "outputs": [],
      "source": [
        "import os\n",
        "import pandas as pd\n",
        "import json\n"
      ]
    }
  ]
}